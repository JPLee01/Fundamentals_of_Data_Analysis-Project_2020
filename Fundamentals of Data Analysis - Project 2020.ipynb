{
 "cells": [
  {
   "cell_type": "markdown",
   "metadata": {},
   "source": [
    "<img align=\"centre\" width=\"750\" height=\"750\" img src=\"https://i0.wp.com/www.creatingentrepreneursinfood.eu/wp-content/uploads/2017/02/GMIT-logo.png\">"
   ]
  },
  {
   "cell_type": "markdown",
   "metadata": {},
   "source": [
    "# Project 2020 - Fundamentals of Data Analysis\n",
    "\n",
    "* **Author:** John Paul Lee\n",
    "* **Github:** JPLee01\n",
    "* **Email:** G00387906@gmit.ie\n",
    "* **Created:** 30-12-2020, **Last update:** 07-01-2021\n",
    "* Fundamentals of Data Analysis: Perform and explain simple linear regression using Python on the *powerproduction* dataset\n",
    "****\n",
    "This Jupyter Notebook has been created to perform and explain simple linear regression using Python on the *powerproduction* dataset. \n",
    "\n",
    "**Lecturer:** Dr. Ian McLoughlin\n",
    "\n",
    "The Project instructions can be found [here](https://github.com/JPLee01/Fundamentals_of_Data_Analysis-Project_2020/blob/main/Project%20Instructions.pdf)\n",
    "****"
   ]
  },
  {
   "cell_type": "markdown",
   "metadata": {},
   "source": [
    "As part of the project this notebook will deal with three main tasks:\n",
    "1. Performing simple linear regression on the *powerproduction* data set.\n",
    "2. An explanation of your regression and an analysis of its accuracy.\n",
    "3. Research and investigation into other types of regression on the *powerproduction* data set and an analysis of its accuracy."
   ]
  },
  {
   "cell_type": "markdown",
   "metadata": {},
   "source": [
    "## Preliminaries\n",
    "Prior to dealing with analysis of the data set we need to import a number of libraries. We need to import the NumPy library as it is essential to synthesise the data set. The Pandas libary will also be imported to allow for analysis of the dat set. The matplotlib and seaborn libaries will also need to be imported to allow for the creation of visualisations in the notebook."
   ]
  },
  {
   "cell_type": "code",
   "execution_count": 1,
   "metadata": {},
   "outputs": [],
   "source": [
    "# Import numpy to allow for simulation of the data set.\n",
    "# Import pandas to allow for analysis of the dat set. \n",
    "# Import matplotlib.pyplot and seaborn for the creation of visualisations\n",
    "import numpy as np\n",
    "import pandas as pd\n",
    "import matplotlib.pyplot as plt\n",
    "import seaborn as sns"
   ]
  },
  {
   "cell_type": "markdown",
   "metadata": {},
   "source": [
    "Also as we will be displaying Plots in this Jupyter Notebook we will implement the *inline* magic command to allow the Plots to be rendered inline within the Notebook.<sup>[1]</sup>"
   ]
  },
  {
   "cell_type": "code",
   "execution_count": 2,
   "metadata": {},
   "outputs": [],
   "source": [
    "#Inline Magic command implemented to ensure that the Plots are rendered inline\n",
    "%matplotlib inline"
   ]
  },
  {
   "cell_type": "markdown",
   "metadata": {},
   "source": [
    "To ensure uniformity throughout the Juypter Notebook in terms of the the Seaborn Plots display the *style* and *palette* fuction will be set.\n",
    "\n",
    "The *style* function will be set to *darkgrid*. This will allow for optimal measurments of Plots as the darkened background with the built in grid lines will be best displayed against the white background of the Juypter Notebook.<sup>[2]</sup> \n",
    "\n",
    "The *palette* fuction will be set to *bright* as it will allow for clear distinction of multiple outputs within one Plot.<sup>[3]</sup> "
   ]
  },
  {
   "cell_type": "code",
   "execution_count": 3,
   "metadata": {},
   "outputs": [],
   "source": [
    "#Setting of Seaborn dispays to enure uniformity throughout the Juypter Notebook\n",
    "#Darkplot style selected to allow for optimal measurments of Plots\n",
    "sns.set_style(\"darkgrid\")\n",
    "#Bright colour palette selected to allow for clear distinction of multiple outputs within one Plot \n",
    "sns.set_palette(\"bright\")"
   ]
  },
  {
   "cell_type": "markdown",
   "metadata": {},
   "source": [
    "## Introduction"
   ]
  },
  {
   "cell_type": "markdown",
   "metadata": {},
   "source": [
    "To begin this project the author will first look at the field of regression, explaining its meaning, uses and how it can be implemented on the *powerproduction* data set. The author will then analyse the *powerproduction* data set and give an overview of the information contained within it. Next the author will explore the possibility of performing linear regression on the *powerproduction* data set, and analyse it's outcome and accuracy. Other types of regression models will be explored and thier possibility of being used on the *powerproduction* data set will be discussed. Finally a summary and conclusion will be given with regards to the use of regression analysis on the *powerproduction* data set."
   ]
  },
  {
   "cell_type": "markdown",
   "metadata": {},
   "source": [
    "## Regression\n",
    "According to Beers<sup>[4]</sup> regression is: \"a statistical method that attempts to determine the strength and character of the relationship between one dependent variable and a series of other variables\". Regression is used in many areas including finance where it helps investment and financial managers to value assets and understand the relationships between variables, such as commodity prices and stocks.<sup>[5]</sup> Within regression, regression analysis is concerned with \"helping us to analyse and understand the relationship between two or more variables of interest.\"<sup>[6]</sup> This includes identifying which factors are important, which factors can be ignored and how they influence each other.<sup>[7]</sup> Regression analysis can also highlight trends such as, the connection between how much you eat and how much you weigh.<sup>[8]</sup> \n",
    "\n",
    "Within regression analysis there are two broad types of regression:<sup>[9]</sup>\n",
    "1. Linear Regression - attempts to model the relationship between two variables by fitting a linear equation to observed data.<sup>[10]</sup> \n",
    "2. Nonlinear Regression - the observed data conforms to a function which is a nonlinear combination of the model parameters.<sup>[11]</sup> \n",
    "\n",
    "An example of both types of regression can be seen in the image below:\n",
    "\n",
    "<img align=\"centre\" width=\"600\" height=\"600\" img src=\"https://hackernoon.com/images/h31rz24si.jpg\">\n",
    "\n",
    "Later on in this notebook the author will dicuss both types of regression in greater detail.\n",
    "\n",
    "Regression can be impelemented on the *powerproduction* data set to help quantify the relationship between the variables, as well as, understand how the value of one variable changes when the other variables is varied.<sup>[12]</sup>\n",
    "\n",
    "Firstly, before any regression is undertaken the author must analyse data set."
   ]
  },
  {
   "cell_type": "markdown",
   "metadata": {},
   "source": [
    "## Analysis of the *Powerproduction* Data Set\n",
    "To first analyse the data set the author will have to import and read the data set using the pandas.read_csv function.<sup>[13]</sup> The author will use the URL provided for on the Fundamentals of Data Analysis moodle page to import the data set rather than uploading it to thier own repository to ensure a tidier repository. The author will also name the data set *powerproduction_dataset* for ease of coding throughout the notebook."
   ]
  },
  {
   "cell_type": "code",
   "execution_count": 4,
   "metadata": {},
   "outputs": [
    {
     "data": {
      "text/html": [
       "<div>\n",
       "<style scoped>\n",
       "    .dataframe tbody tr th:only-of-type {\n",
       "        vertical-align: middle;\n",
       "    }\n",
       "\n",
       "    .dataframe tbody tr th {\n",
       "        vertical-align: top;\n",
       "    }\n",
       "\n",
       "    .dataframe thead th {\n",
       "        text-align: right;\n",
       "    }\n",
       "</style>\n",
       "<table border=\"1\" class=\"dataframe\">\n",
       "  <thead>\n",
       "    <tr style=\"text-align: right;\">\n",
       "      <th></th>\n",
       "      <th>speed</th>\n",
       "      <th>power</th>\n",
       "    </tr>\n",
       "  </thead>\n",
       "  <tbody>\n",
       "    <tr>\n",
       "      <th>0</th>\n",
       "      <td>0.000</td>\n",
       "      <td>0.0</td>\n",
       "    </tr>\n",
       "    <tr>\n",
       "      <th>1</th>\n",
       "      <td>0.125</td>\n",
       "      <td>0.0</td>\n",
       "    </tr>\n",
       "    <tr>\n",
       "      <th>2</th>\n",
       "      <td>0.150</td>\n",
       "      <td>0.0</td>\n",
       "    </tr>\n",
       "    <tr>\n",
       "      <th>3</th>\n",
       "      <td>0.225</td>\n",
       "      <td>0.0</td>\n",
       "    </tr>\n",
       "    <tr>\n",
       "      <th>4</th>\n",
       "      <td>0.275</td>\n",
       "      <td>0.0</td>\n",
       "    </tr>\n",
       "    <tr>\n",
       "      <th>...</th>\n",
       "      <td>...</td>\n",
       "      <td>...</td>\n",
       "    </tr>\n",
       "    <tr>\n",
       "      <th>495</th>\n",
       "      <td>24.775</td>\n",
       "      <td>0.0</td>\n",
       "    </tr>\n",
       "    <tr>\n",
       "      <th>496</th>\n",
       "      <td>24.850</td>\n",
       "      <td>0.0</td>\n",
       "    </tr>\n",
       "    <tr>\n",
       "      <th>497</th>\n",
       "      <td>24.875</td>\n",
       "      <td>0.0</td>\n",
       "    </tr>\n",
       "    <tr>\n",
       "      <th>498</th>\n",
       "      <td>24.950</td>\n",
       "      <td>0.0</td>\n",
       "    </tr>\n",
       "    <tr>\n",
       "      <th>499</th>\n",
       "      <td>25.000</td>\n",
       "      <td>0.0</td>\n",
       "    </tr>\n",
       "  </tbody>\n",
       "</table>\n",
       "<p>500 rows × 2 columns</p>\n",
       "</div>"
      ],
      "text/plain": [
       "      speed  power\n",
       "0     0.000    0.0\n",
       "1     0.125    0.0\n",
       "2     0.150    0.0\n",
       "3     0.225    0.0\n",
       "4     0.275    0.0\n",
       "..      ...    ...\n",
       "495  24.775    0.0\n",
       "496  24.850    0.0\n",
       "497  24.875    0.0\n",
       "498  24.950    0.0\n",
       "499  25.000    0.0\n",
       "\n",
       "[500 rows x 2 columns]"
      ]
     },
     "execution_count": 4,
     "metadata": {},
     "output_type": "execute_result"
    }
   ],
   "source": [
    "#Import and read the Data Set\n",
    "powerproduction_dataset = pd.read_csv(\"https://raw.githubusercontent.com/ianmcloughlin/2020A-machstat-project/master/dataset/powerproduction.csv\")\n",
    "powerproduction_dataset"
   ]
  },
  {
   "cell_type": "markdown",
   "metadata": {},
   "source": [
    "As the data set has been successfully been imported the author will begin analysing the data set. Firstly the author will use the pandas.DataFrame.info function<sup>[14]</sup> to conduct basic analysis by displaying general information about the data set."
   ]
  },
  {
   "cell_type": "code",
   "execution_count": 5,
   "metadata": {
    "scrolled": false
   },
   "outputs": [
    {
     "name": "stdout",
     "output_type": "stream",
     "text": [
      "General Information of the Data Set \n",
      "\n",
      "<class 'pandas.core.frame.DataFrame'>\n",
      "RangeIndex: 500 entries, 0 to 499\n",
      "Data columns (total 2 columns):\n",
      "speed    500 non-null float64\n",
      "power    500 non-null float64\n",
      "dtypes: float64(2)\n",
      "memory usage: 7.9 KB\n"
     ]
    }
   ],
   "source": [
    "#Basic Analysis of the Data Set\n",
    "print(\"General Information of the Data Set\", \"\\n\")\n",
    "powerproduction_dataset.info()"
   ]
  },
  {
   "cell_type": "markdown",
   "metadata": {},
   "source": [
    "From the pandas.DataFrame.info function the author can see that the data set contains 500 entries numbered 0-449 and two columns labeled 'speed' and 'power'. As a result the author will assume for the rest of the project that the result for speed are displayed in meters/second (m/s) and the power results are displayed in kilowatt hour (kW h). The data set can also be seen to be 7.9 KB in size.\n",
    "\n",
    "The author can also see that for both the 'speed' and 'power' columns there is no null or missing data present. However to cross reference that this that author will implement the pandas.isnull command<sup>[15]</sup> which will return a 'true' result if no null or missing data is present. The author will then use python's built-in sum()<sup>[16]</sup> function to add all the 'true' returns and display how much (if any) missing data is present."
   ]
  },
  {
   "cell_type": "code",
   "execution_count": 6,
   "metadata": {},
   "outputs": [
    {
     "data": {
      "text/html": [
       "<div>\n",
       "<style scoped>\n",
       "    .dataframe tbody tr th:only-of-type {\n",
       "        vertical-align: middle;\n",
       "    }\n",
       "\n",
       "    .dataframe tbody tr th {\n",
       "        vertical-align: top;\n",
       "    }\n",
       "\n",
       "    .dataframe thead th {\n",
       "        text-align: right;\n",
       "    }\n",
       "</style>\n",
       "<table border=\"1\" class=\"dataframe\">\n",
       "  <thead>\n",
       "    <tr style=\"text-align: right;\">\n",
       "      <th></th>\n",
       "      <th>speed</th>\n",
       "      <th>power</th>\n",
       "    </tr>\n",
       "  </thead>\n",
       "  <tbody>\n",
       "    <tr>\n",
       "      <th>0</th>\n",
       "      <td>False</td>\n",
       "      <td>False</td>\n",
       "    </tr>\n",
       "    <tr>\n",
       "      <th>1</th>\n",
       "      <td>False</td>\n",
       "      <td>False</td>\n",
       "    </tr>\n",
       "    <tr>\n",
       "      <th>2</th>\n",
       "      <td>False</td>\n",
       "      <td>False</td>\n",
       "    </tr>\n",
       "    <tr>\n",
       "      <th>3</th>\n",
       "      <td>False</td>\n",
       "      <td>False</td>\n",
       "    </tr>\n",
       "    <tr>\n",
       "      <th>4</th>\n",
       "      <td>False</td>\n",
       "      <td>False</td>\n",
       "    </tr>\n",
       "    <tr>\n",
       "      <th>...</th>\n",
       "      <td>...</td>\n",
       "      <td>...</td>\n",
       "    </tr>\n",
       "    <tr>\n",
       "      <th>495</th>\n",
       "      <td>False</td>\n",
       "      <td>False</td>\n",
       "    </tr>\n",
       "    <tr>\n",
       "      <th>496</th>\n",
       "      <td>False</td>\n",
       "      <td>False</td>\n",
       "    </tr>\n",
       "    <tr>\n",
       "      <th>497</th>\n",
       "      <td>False</td>\n",
       "      <td>False</td>\n",
       "    </tr>\n",
       "    <tr>\n",
       "      <th>498</th>\n",
       "      <td>False</td>\n",
       "      <td>False</td>\n",
       "    </tr>\n",
       "    <tr>\n",
       "      <th>499</th>\n",
       "      <td>False</td>\n",
       "      <td>False</td>\n",
       "    </tr>\n",
       "  </tbody>\n",
       "</table>\n",
       "<p>500 rows × 2 columns</p>\n",
       "</div>"
      ],
      "text/plain": [
       "     speed  power\n",
       "0    False  False\n",
       "1    False  False\n",
       "2    False  False\n",
       "3    False  False\n",
       "4    False  False\n",
       "..     ...    ...\n",
       "495  False  False\n",
       "496  False  False\n",
       "497  False  False\n",
       "498  False  False\n",
       "499  False  False\n",
       "\n",
       "[500 rows x 2 columns]"
      ]
     },
     "execution_count": 6,
     "metadata": {},
     "output_type": "execute_result"
    }
   ],
   "source": [
    "#Identify if there are any missing values in the Data Set\n",
    "powerproduction_dataset.isnull()"
   ]
  },
  {
   "cell_type": "code",
   "execution_count": 7,
   "metadata": {},
   "outputs": [
    {
     "name": "stdout",
     "output_type": "stream",
     "text": [
      "Total number of missing data present in the data set:\n"
     ]
    },
    {
     "data": {
      "text/plain": [
       "speed    0\n",
       "power    0\n",
       "dtype: int64"
      ]
     },
     "execution_count": 7,
     "metadata": {},
     "output_type": "execute_result"
    }
   ],
   "source": [
    "#Count of the total missing values in the Data Set\n",
    "print(\"Total number of missing data present in the data set:\")\n",
    "powerproduction_dataset.isnull().sum()"
   ]
  },
  {
   "cell_type": "markdown",
   "metadata": {},
   "source": [
    "From the results it can be seen that no missing data is present in the data set. As a result, the author will now begin to analyse the data set in greater detail. Firstly, the author will use the pandas.DataFrame.describe function<sup>[17]</sup> to display the summary statistics of the data set. The author will also use python's built-in round() function<sup>[18]</sup> in conjuction to round the summary statistics to three decimal places. "
   ]
  },
  {
   "cell_type": "code",
   "execution_count": 8,
   "metadata": {
    "scrolled": true
   },
   "outputs": [
    {
     "name": "stdout",
     "output_type": "stream",
     "text": [
      "Summary Statistics of the Data Set (Rounded to 3 Decimal Places):\n"
     ]
    },
    {
     "data": {
      "text/html": [
       "<div>\n",
       "<style scoped>\n",
       "    .dataframe tbody tr th:only-of-type {\n",
       "        vertical-align: middle;\n",
       "    }\n",
       "\n",
       "    .dataframe tbody tr th {\n",
       "        vertical-align: top;\n",
       "    }\n",
       "\n",
       "    .dataframe thead th {\n",
       "        text-align: right;\n",
       "    }\n",
       "</style>\n",
       "<table border=\"1\" class=\"dataframe\">\n",
       "  <thead>\n",
       "    <tr style=\"text-align: right;\">\n",
       "      <th></th>\n",
       "      <th>speed</th>\n",
       "      <th>power</th>\n",
       "    </tr>\n",
       "  </thead>\n",
       "  <tbody>\n",
       "    <tr>\n",
       "      <th>count</th>\n",
       "      <td>500.000</td>\n",
       "      <td>500.000</td>\n",
       "    </tr>\n",
       "    <tr>\n",
       "      <th>mean</th>\n",
       "      <td>12.590</td>\n",
       "      <td>48.015</td>\n",
       "    </tr>\n",
       "    <tr>\n",
       "      <th>std</th>\n",
       "      <td>7.225</td>\n",
       "      <td>41.615</td>\n",
       "    </tr>\n",
       "    <tr>\n",
       "      <th>min</th>\n",
       "      <td>0.000</td>\n",
       "      <td>0.000</td>\n",
       "    </tr>\n",
       "    <tr>\n",
       "      <th>25%</th>\n",
       "      <td>6.325</td>\n",
       "      <td>5.288</td>\n",
       "    </tr>\n",
       "    <tr>\n",
       "      <th>50%</th>\n",
       "      <td>12.550</td>\n",
       "      <td>41.646</td>\n",
       "    </tr>\n",
       "    <tr>\n",
       "      <th>75%</th>\n",
       "      <td>18.775</td>\n",
       "      <td>93.537</td>\n",
       "    </tr>\n",
       "    <tr>\n",
       "      <th>max</th>\n",
       "      <td>25.000</td>\n",
       "      <td>113.556</td>\n",
       "    </tr>\n",
       "  </tbody>\n",
       "</table>\n",
       "</div>"
      ],
      "text/plain": [
       "         speed    power\n",
       "count  500.000  500.000\n",
       "mean    12.590   48.015\n",
       "std      7.225   41.615\n",
       "min      0.000    0.000\n",
       "25%      6.325    5.288\n",
       "50%     12.550   41.646\n",
       "75%     18.775   93.537\n",
       "max     25.000  113.556"
      ]
     },
     "execution_count": 8,
     "metadata": {},
     "output_type": "execute_result"
    }
   ],
   "source": [
    "#Analysis of the Data Set\n",
    "print(\"Summary Statistics of the Data Set (Rounded to 3 Decimal Places):\")\n",
    "round(powerproduction_dataset.describe(),3)"
   ]
  },
  {
   "cell_type": "markdown",
   "metadata": {},
   "source": [
    "From the summary statistics of the data set it can be seen that while the lowest value for both Speed and Power is 0, in terms of highest value Speed rises to 25 while Power rises up to 113.556. This different can also be seen in the mean figures for both columns, Speed - 12.590 and Power 48.015 respectively. Interstingly as well, the standard deviation for Power is almot 6 times larger than Speeds (41.615 vs. 7.225). This would indicate that Powers results are spread out over quiet a wider range than Speeds.\n",
    "\n",
    "Also from viewing the Data Set it can be seen that for the first and last five results for power output is 0. To investigate this further to see if this is a trend and perhaps power is only produced once speed is within a certain range the author will use the Pandas.DataFrame.head<sup>[19]</sup>, Pandas.DataFrame.tail<sup>[20]</sup>, Pandas.DataFrame.sample<sup>[21]</sup> and Pandas.DataFrame.slice<sup>[22]</sup> commands. The author will use the Pandas.DataFrame.head and Pandas.DataFrame.tail commands to investigate the first and last ten results for the data set to see does the power output remain at 0. The author will use the Pandas.DataFrame.sample command to return a random sample from the data set and see if there is any change in the power output. Finally the author will use the Pandas.DataFrame.slice command to return the result for the middle rows of the data set (245-255) to see perhaps does the power output follow a normal distribution and peak in the middle of the data set."
   ]
  },
  {
   "cell_type": "code",
   "execution_count": 9,
   "metadata": {
    "scrolled": true
   },
   "outputs": [
    {
     "name": "stdout",
     "output_type": "stream",
     "text": [
      "Sample of the First 10 Rows of Data:\n"
     ]
    },
    {
     "data": {
      "text/html": [
       "<div>\n",
       "<style scoped>\n",
       "    .dataframe tbody tr th:only-of-type {\n",
       "        vertical-align: middle;\n",
       "    }\n",
       "\n",
       "    .dataframe tbody tr th {\n",
       "        vertical-align: top;\n",
       "    }\n",
       "\n",
       "    .dataframe thead th {\n",
       "        text-align: right;\n",
       "    }\n",
       "</style>\n",
       "<table border=\"1\" class=\"dataframe\">\n",
       "  <thead>\n",
       "    <tr style=\"text-align: right;\">\n",
       "      <th></th>\n",
       "      <th>speed</th>\n",
       "      <th>power</th>\n",
       "    </tr>\n",
       "  </thead>\n",
       "  <tbody>\n",
       "    <tr>\n",
       "      <th>0</th>\n",
       "      <td>0.000</td>\n",
       "      <td>0.000</td>\n",
       "    </tr>\n",
       "    <tr>\n",
       "      <th>1</th>\n",
       "      <td>0.125</td>\n",
       "      <td>0.000</td>\n",
       "    </tr>\n",
       "    <tr>\n",
       "      <th>2</th>\n",
       "      <td>0.150</td>\n",
       "      <td>0.000</td>\n",
       "    </tr>\n",
       "    <tr>\n",
       "      <th>3</th>\n",
       "      <td>0.225</td>\n",
       "      <td>0.000</td>\n",
       "    </tr>\n",
       "    <tr>\n",
       "      <th>4</th>\n",
       "      <td>0.275</td>\n",
       "      <td>0.000</td>\n",
       "    </tr>\n",
       "    <tr>\n",
       "      <th>5</th>\n",
       "      <td>0.325</td>\n",
       "      <td>4.331</td>\n",
       "    </tr>\n",
       "    <tr>\n",
       "      <th>6</th>\n",
       "      <td>0.400</td>\n",
       "      <td>5.186</td>\n",
       "    </tr>\n",
       "    <tr>\n",
       "      <th>7</th>\n",
       "      <td>0.450</td>\n",
       "      <td>3.826</td>\n",
       "    </tr>\n",
       "    <tr>\n",
       "      <th>8</th>\n",
       "      <td>0.501</td>\n",
       "      <td>1.048</td>\n",
       "    </tr>\n",
       "    <tr>\n",
       "      <th>9</th>\n",
       "      <td>0.526</td>\n",
       "      <td>5.553</td>\n",
       "    </tr>\n",
       "  </tbody>\n",
       "</table>\n",
       "</div>"
      ],
      "text/plain": [
       "   speed  power\n",
       "0  0.000  0.000\n",
       "1  0.125  0.000\n",
       "2  0.150  0.000\n",
       "3  0.225  0.000\n",
       "4  0.275  0.000\n",
       "5  0.325  4.331\n",
       "6  0.400  5.186\n",
       "7  0.450  3.826\n",
       "8  0.501  1.048\n",
       "9  0.526  5.553"
      ]
     },
     "execution_count": 9,
     "metadata": {},
     "output_type": "execute_result"
    }
   ],
   "source": [
    "print(\"Sample of the First 10 Rows of Data:\")\n",
    "powerproduction_dataset.head(10)"
   ]
  },
  {
   "cell_type": "code",
   "execution_count": 10,
   "metadata": {
    "scrolled": true
   },
   "outputs": [
    {
     "name": "stdout",
     "output_type": "stream",
     "text": [
      "Sample of the Last 10 Rows of Data:\n"
     ]
    },
    {
     "data": {
      "text/html": [
       "<div>\n",
       "<style scoped>\n",
       "    .dataframe tbody tr th:only-of-type {\n",
       "        vertical-align: middle;\n",
       "    }\n",
       "\n",
       "    .dataframe tbody tr th {\n",
       "        vertical-align: top;\n",
       "    }\n",
       "\n",
       "    .dataframe thead th {\n",
       "        text-align: right;\n",
       "    }\n",
       "</style>\n",
       "<table border=\"1\" class=\"dataframe\">\n",
       "  <thead>\n",
       "    <tr style=\"text-align: right;\">\n",
       "      <th></th>\n",
       "      <th>speed</th>\n",
       "      <th>power</th>\n",
       "    </tr>\n",
       "  </thead>\n",
       "  <tbody>\n",
       "    <tr>\n",
       "      <th>490</th>\n",
       "      <td>24.499</td>\n",
       "      <td>0.0</td>\n",
       "    </tr>\n",
       "    <tr>\n",
       "      <th>491</th>\n",
       "      <td>24.525</td>\n",
       "      <td>0.0</td>\n",
       "    </tr>\n",
       "    <tr>\n",
       "      <th>492</th>\n",
       "      <td>24.575</td>\n",
       "      <td>0.0</td>\n",
       "    </tr>\n",
       "    <tr>\n",
       "      <th>493</th>\n",
       "      <td>24.650</td>\n",
       "      <td>0.0</td>\n",
       "    </tr>\n",
       "    <tr>\n",
       "      <th>494</th>\n",
       "      <td>24.750</td>\n",
       "      <td>0.0</td>\n",
       "    </tr>\n",
       "    <tr>\n",
       "      <th>495</th>\n",
       "      <td>24.775</td>\n",
       "      <td>0.0</td>\n",
       "    </tr>\n",
       "    <tr>\n",
       "      <th>496</th>\n",
       "      <td>24.850</td>\n",
       "      <td>0.0</td>\n",
       "    </tr>\n",
       "    <tr>\n",
       "      <th>497</th>\n",
       "      <td>24.875</td>\n",
       "      <td>0.0</td>\n",
       "    </tr>\n",
       "    <tr>\n",
       "      <th>498</th>\n",
       "      <td>24.950</td>\n",
       "      <td>0.0</td>\n",
       "    </tr>\n",
       "    <tr>\n",
       "      <th>499</th>\n",
       "      <td>25.000</td>\n",
       "      <td>0.0</td>\n",
       "    </tr>\n",
       "  </tbody>\n",
       "</table>\n",
       "</div>"
      ],
      "text/plain": [
       "      speed  power\n",
       "490  24.499    0.0\n",
       "491  24.525    0.0\n",
       "492  24.575    0.0\n",
       "493  24.650    0.0\n",
       "494  24.750    0.0\n",
       "495  24.775    0.0\n",
       "496  24.850    0.0\n",
       "497  24.875    0.0\n",
       "498  24.950    0.0\n",
       "499  25.000    0.0"
      ]
     },
     "execution_count": 10,
     "metadata": {},
     "output_type": "execute_result"
    }
   ],
   "source": [
    "print(\"Sample of the Last 10 Rows of Data:\")\n",
    "powerproduction_dataset.tail(10)"
   ]
  },
  {
   "cell_type": "code",
   "execution_count": 11,
   "metadata": {
    "scrolled": true
   },
   "outputs": [
    {
     "name": "stdout",
     "output_type": "stream",
     "text": [
      "Random sample of 10 Rows of Data:\n"
     ]
    },
    {
     "data": {
      "text/html": [
       "<div>\n",
       "<style scoped>\n",
       "    .dataframe tbody tr th:only-of-type {\n",
       "        vertical-align: middle;\n",
       "    }\n",
       "\n",
       "    .dataframe tbody tr th {\n",
       "        vertical-align: top;\n",
       "    }\n",
       "\n",
       "    .dataframe thead th {\n",
       "        text-align: right;\n",
       "    }\n",
       "</style>\n",
       "<table border=\"1\" class=\"dataframe\">\n",
       "  <thead>\n",
       "    <tr style=\"text-align: right;\">\n",
       "      <th></th>\n",
       "      <th>speed</th>\n",
       "      <th>power</th>\n",
       "    </tr>\n",
       "  </thead>\n",
       "  <tbody>\n",
       "    <tr>\n",
       "      <th>181</th>\n",
       "      <td>9.259</td>\n",
       "      <td>13.774</td>\n",
       "    </tr>\n",
       "    <tr>\n",
       "      <th>26</th>\n",
       "      <td>1.076</td>\n",
       "      <td>0.000</td>\n",
       "    </tr>\n",
       "    <tr>\n",
       "      <th>389</th>\n",
       "      <td>19.570</td>\n",
       "      <td>94.850</td>\n",
       "    </tr>\n",
       "    <tr>\n",
       "      <th>354</th>\n",
       "      <td>17.643</td>\n",
       "      <td>102.322</td>\n",
       "    </tr>\n",
       "    <tr>\n",
       "      <th>238</th>\n",
       "      <td>12.162</td>\n",
       "      <td>41.599</td>\n",
       "    </tr>\n",
       "    <tr>\n",
       "      <th>141</th>\n",
       "      <td>7.157</td>\n",
       "      <td>7.973</td>\n",
       "    </tr>\n",
       "    <tr>\n",
       "      <th>112</th>\n",
       "      <td>5.831</td>\n",
       "      <td>4.380</td>\n",
       "    </tr>\n",
       "    <tr>\n",
       "      <th>350</th>\n",
       "      <td>17.543</td>\n",
       "      <td>90.435</td>\n",
       "    </tr>\n",
       "    <tr>\n",
       "      <th>45</th>\n",
       "      <td>2.177</td>\n",
       "      <td>2.701</td>\n",
       "    </tr>\n",
       "    <tr>\n",
       "      <th>108</th>\n",
       "      <td>5.706</td>\n",
       "      <td>1.626</td>\n",
       "    </tr>\n",
       "  </tbody>\n",
       "</table>\n",
       "</div>"
      ],
      "text/plain": [
       "      speed    power\n",
       "181   9.259   13.774\n",
       "26    1.076    0.000\n",
       "389  19.570   94.850\n",
       "354  17.643  102.322\n",
       "238  12.162   41.599\n",
       "141   7.157    7.973\n",
       "112   5.831    4.380\n",
       "350  17.543   90.435\n",
       "45    2.177    2.701\n",
       "108   5.706    1.626"
      ]
     },
     "execution_count": 11,
     "metadata": {},
     "output_type": "execute_result"
    }
   ],
   "source": [
    "print(\"Random sample of 10 Rows of Data:\")\n",
    "powerproduction_dataset.sample(10)"
   ]
  },
  {
   "cell_type": "code",
   "execution_count": 12,
   "metadata": {
    "scrolled": false
   },
   "outputs": [
    {
     "name": "stdout",
     "output_type": "stream",
     "text": [
      "Sample of Rows 245-255 of Data:\n"
     ]
    },
    {
     "data": {
      "text/html": [
       "<div>\n",
       "<style scoped>\n",
       "    .dataframe tbody tr th:only-of-type {\n",
       "        vertical-align: middle;\n",
       "    }\n",
       "\n",
       "    .dataframe tbody tr th {\n",
       "        vertical-align: top;\n",
       "    }\n",
       "\n",
       "    .dataframe thead th {\n",
       "        text-align: right;\n",
       "    }\n",
       "</style>\n",
       "<table border=\"1\" class=\"dataframe\">\n",
       "  <thead>\n",
       "    <tr style=\"text-align: right;\">\n",
       "      <th></th>\n",
       "      <th>speed</th>\n",
       "      <th>power</th>\n",
       "    </tr>\n",
       "  </thead>\n",
       "  <tbody>\n",
       "    <tr>\n",
       "      <th>245</th>\n",
       "      <td>12.387</td>\n",
       "      <td>37.159</td>\n",
       "    </tr>\n",
       "    <tr>\n",
       "      <th>246</th>\n",
       "      <td>12.412</td>\n",
       "      <td>52.952</td>\n",
       "    </tr>\n",
       "    <tr>\n",
       "      <th>247</th>\n",
       "      <td>12.462</td>\n",
       "      <td>44.745</td>\n",
       "    </tr>\n",
       "    <tr>\n",
       "      <th>248</th>\n",
       "      <td>12.487</td>\n",
       "      <td>44.735</td>\n",
       "    </tr>\n",
       "    <tr>\n",
       "      <th>249</th>\n",
       "      <td>12.538</td>\n",
       "      <td>44.801</td>\n",
       "    </tr>\n",
       "    <tr>\n",
       "      <th>250</th>\n",
       "      <td>12.563</td>\n",
       "      <td>42.336</td>\n",
       "    </tr>\n",
       "    <tr>\n",
       "      <th>251</th>\n",
       "      <td>12.588</td>\n",
       "      <td>54.079</td>\n",
       "    </tr>\n",
       "    <tr>\n",
       "      <th>252</th>\n",
       "      <td>12.613</td>\n",
       "      <td>51.471</td>\n",
       "    </tr>\n",
       "    <tr>\n",
       "      <th>253</th>\n",
       "      <td>12.663</td>\n",
       "      <td>44.880</td>\n",
       "    </tr>\n",
       "    <tr>\n",
       "      <th>254</th>\n",
       "      <td>12.713</td>\n",
       "      <td>51.149</td>\n",
       "    </tr>\n",
       "  </tbody>\n",
       "</table>\n",
       "</div>"
      ],
      "text/plain": [
       "      speed   power\n",
       "245  12.387  37.159\n",
       "246  12.412  52.952\n",
       "247  12.462  44.745\n",
       "248  12.487  44.735\n",
       "249  12.538  44.801\n",
       "250  12.563  42.336\n",
       "251  12.588  54.079\n",
       "252  12.613  51.471\n",
       "253  12.663  44.880\n",
       "254  12.713  51.149"
      ]
     },
     "execution_count": 12,
     "metadata": {},
     "output_type": "execute_result"
    }
   ],
   "source": [
    "print(\"Sample of Rows 245-255 of Data:\")\n",
    "powerproduction_dataset[245:255]"
   ]
  },
  {
   "cell_type": "markdown",
   "metadata": {},
   "source": [
    "As we can see from the results it appears that after speed reaches .325 m/s that power is produced. From the sample command it does not appear that speed vs. power follows a certain ration e.g. power is twice as the result of speed. However it can be assumed that speed vs. power does generally follow an upward trajectory i.e. when speed rises so does power. \n",
    "\n",
    "It should also be noted though that from the tail result it also appears that after speed reaches a certain level that no power is produced. As the certain level of speed is not yet estabilshed the author will again use the Pandas.DataFrame.slice command and slice the rows 480-495 to see if perhaps the upper level of speed to stop producing power can be established. "
   ]
  },
  {
   "cell_type": "code",
   "execution_count": 13,
   "metadata": {},
   "outputs": [
    {
     "name": "stdout",
     "output_type": "stream",
     "text": [
      "Sample of Rows 480-495 of Data:\n"
     ]
    },
    {
     "data": {
      "text/html": [
       "<div>\n",
       "<style scoped>\n",
       "    .dataframe tbody tr th:only-of-type {\n",
       "        vertical-align: middle;\n",
       "    }\n",
       "\n",
       "    .dataframe tbody tr th {\n",
       "        vertical-align: top;\n",
       "    }\n",
       "\n",
       "    .dataframe thead th {\n",
       "        text-align: right;\n",
       "    }\n",
       "</style>\n",
       "<table border=\"1\" class=\"dataframe\">\n",
       "  <thead>\n",
       "    <tr style=\"text-align: right;\">\n",
       "      <th></th>\n",
       "      <th>speed</th>\n",
       "      <th>power</th>\n",
       "    </tr>\n",
       "  </thead>\n",
       "  <tbody>\n",
       "    <tr>\n",
       "      <th>480</th>\n",
       "      <td>23.974</td>\n",
       "      <td>94.270</td>\n",
       "    </tr>\n",
       "    <tr>\n",
       "      <th>481</th>\n",
       "      <td>24.024</td>\n",
       "      <td>105.992</td>\n",
       "    </tr>\n",
       "    <tr>\n",
       "      <th>482</th>\n",
       "      <td>24.049</td>\n",
       "      <td>93.524</td>\n",
       "    </tr>\n",
       "    <tr>\n",
       "      <th>483</th>\n",
       "      <td>24.174</td>\n",
       "      <td>95.869</td>\n",
       "    </tr>\n",
       "    <tr>\n",
       "      <th>484</th>\n",
       "      <td>24.199</td>\n",
       "      <td>101.419</td>\n",
       "    </tr>\n",
       "    <tr>\n",
       "      <th>485</th>\n",
       "      <td>24.249</td>\n",
       "      <td>103.700</td>\n",
       "    </tr>\n",
       "    <tr>\n",
       "      <th>486</th>\n",
       "      <td>24.299</td>\n",
       "      <td>93.694</td>\n",
       "    </tr>\n",
       "    <tr>\n",
       "      <th>487</th>\n",
       "      <td>24.349</td>\n",
       "      <td>93.078</td>\n",
       "    </tr>\n",
       "    <tr>\n",
       "      <th>488</th>\n",
       "      <td>24.374</td>\n",
       "      <td>98.223</td>\n",
       "    </tr>\n",
       "    <tr>\n",
       "      <th>489</th>\n",
       "      <td>24.399</td>\n",
       "      <td>95.117</td>\n",
       "    </tr>\n",
       "    <tr>\n",
       "      <th>490</th>\n",
       "      <td>24.499</td>\n",
       "      <td>0.000</td>\n",
       "    </tr>\n",
       "    <tr>\n",
       "      <th>491</th>\n",
       "      <td>24.525</td>\n",
       "      <td>0.000</td>\n",
       "    </tr>\n",
       "    <tr>\n",
       "      <th>492</th>\n",
       "      <td>24.575</td>\n",
       "      <td>0.000</td>\n",
       "    </tr>\n",
       "    <tr>\n",
       "      <th>493</th>\n",
       "      <td>24.650</td>\n",
       "      <td>0.000</td>\n",
       "    </tr>\n",
       "    <tr>\n",
       "      <th>494</th>\n",
       "      <td>24.750</td>\n",
       "      <td>0.000</td>\n",
       "    </tr>\n",
       "  </tbody>\n",
       "</table>\n",
       "</div>"
      ],
      "text/plain": [
       "      speed    power\n",
       "480  23.974   94.270\n",
       "481  24.024  105.992\n",
       "482  24.049   93.524\n",
       "483  24.174   95.869\n",
       "484  24.199  101.419\n",
       "485  24.249  103.700\n",
       "486  24.299   93.694\n",
       "487  24.349   93.078\n",
       "488  24.374   98.223\n",
       "489  24.399   95.117\n",
       "490  24.499    0.000\n",
       "491  24.525    0.000\n",
       "492  24.575    0.000\n",
       "493  24.650    0.000\n",
       "494  24.750    0.000"
      ]
     },
     "execution_count": 13,
     "metadata": {},
     "output_type": "execute_result"
    }
   ],
   "source": [
    "print(\"Sample of Rows 480-495 of Data:\")\n",
    "powerproduction_dataset[480:495]"
   ]
  },
  {
   "cell_type": "markdown",
   "metadata": {},
   "source": [
    "From further analyis the author can now see that after speed reaches 24.5 m/s the power output plummets and from that point onwards no power is produced. This is an interesting discovery and perhaps would point to something like a capacity issue of being able to convert high speeds into power. "
   ]
  },
  {
   "cell_type": "markdown",
   "metadata": {},
   "source": [
    "From the analysis of the data set the author has been able to make the following three observations:\n",
    "* Before speeds of .325 m/s no power is produced.\n",
    "* In general terms the speed vs. power relationship does follow an upward trajectory.\n",
    "* After speeds of 24.5 m/s no power is produced.\n",
    "\n",
    "In order to validate these observations the author will plot the data set and visually check if they hold true."
   ]
  },
  {
   "cell_type": "code",
   "execution_count": 51,
   "metadata": {},
   "outputs": [],
   "source": [
    "#Set the size output to improve analysis \n",
    "plt.rcParams['figure.figsize'] = (25, 15)"
   ]
  },
  {
   "cell_type": "code",
   "execution_count": 52,
   "metadata": {
    "scrolled": false
   },
   "outputs": [
    {
     "data": {
      "text/plain": [
       "Text(0.5, 0.98, 'Powerproduction Data Set')"
      ]
     },
     "execution_count": 52,
     "metadata": {},
     "output_type": "execute_result"
    },
    {
     "data": {
      "image/png": "[encoded data removed]",
      "text/plain": [
       "<Figure size 1800x1080 with 1 Axes>"
      ]
     },
     "metadata": {},
     "output_type": "display_data"
    }
   ],
   "source": [
    "#Plotting of the Data Set on a Scatter Plot\n",
    "sns.scatterplot(data=powerproduction_dataset, x='speed', y='power',\n",
    "    sizes=(250, 250), legend=\"full\")\n",
    "plt. xlabel('Speed (m/s)', fontsize=25)\n",
    "plt. ylabel('Power (kW h)', fontsize=25)\n",
    "plt. suptitle('Powerproduction Data Set', fontsize=30)"
   ]
  },
  {
   "cell_type": "markdown",
   "metadata": {},
   "source": [
    "As can be seen from the visualisation the data set seems to follow a 'S Type' curve that is to say it is flatter at the beginning and end and steeper in the middle. While very popular in the Project Management sphere,<sup>[23]</sup> (an S curve is the appropriate cumulative data for a project or task, such as, the cost, or man-hours plotted against time<sup>[24]</sup>) the S cuvre can tell a lot with regards to the *powerproduction* data set.\n",
    "\n",
    "Firstly it can be seen that generally when the speed is quiet low (below 6 m/s) very little if any power is produced. This confirms the authors first observation from  analysis of the data set. Secondly, after 6 m/s of speed is generated power seems to be produced output at an exponential rate, again backing up the author second claim that in general terms the speed vs. power relationship follows an upward trajectory. Lastly it can be seen that generally once more than 20 m/s of speed is generated the power output plateaus. \n",
    "\n",
    "From analysis of the visualisation the author would argue that the *powerproduction* data set follows a logistic growth model. Normally used to describe population growth over time, logistic growth is when the growth rate of an entity decreases as it approaches a maximum imposed by limited resources.<sup>[25]</sup> An example of the logistic growth model (for populations over time) can be seen in the image below:\n",
    "\n",
    "<img align=\"centre\" width=\"400\" height=\"400\" img src=\"https://fastly.kastatic.org/ka-perseus-images/5cbb382cc7a53196a402172da5c2fed32c2134ff.png\">\n",
    "\n",
    "As can be seen in the image the limited resource is the carrying capacity of the environment i.e the maximum number of organisms that an ecosystem can sustainably support.<sup>[26]</sup> For the *powerproduction* data set the limited resource could be somethig like the inability to efficiently convert speed into power after a certain point. \n",
    "\n",
    "Within the visualisation it should also be noted that sporadically no power appears to be produced no matter what speed is generated. These points it could be argued could be classed as outliers. An outlier is an observation that lies outside the overall pattern of a distribution.<sup>[27]</sup> Outliers may be present for a number of reasons including erroneous data, measurment error or input error.<sup>[28]</sup> While some academics would argue that outliers should be dropped as they would affect the mean, standard deviation, and correlation results<sup>[29]</sup>, for the purpose of this project the author will leave the outliers present as it increases the validity of any future calculations. \n",
    "\n",
    "Now that the the *powerproduction* data set has been fully analysed the author will attempt to perform simple linear regression on the data set."
   ]
  },
  {
   "cell_type": "markdown",
   "metadata": {},
   "source": [
    "## Simple Linear Regression\n",
    "As stated earlier linear regression is focused on modeling the relationship between two variables by fitting a linear equation to observed data.<sup>[30]</sup> Simple linear regression, a subset of linear regression, uses one independent variable to explain or predict the outcome of the other dependent variable.<sup>[31]</sup> In the case of the *powerproduction* data set the independent variable would be Speed and the dependent variable would be Power as speed is required to produce power.\n",
    "\n"
   ]
  },
  {
   "cell_type": "code",
   "execution_count": 53,
   "metadata": {},
   "outputs": [
    {
     "ename": "TypeError",
     "evalue": "cannot perform reduce with flexible type",
     "output_type": "error",
     "traceback": [
      "\u001b[0;31m---------------------------------------------------------------------------\u001b[0m",
      "\u001b[0;31mTypeError\u001b[0m                                 Traceback (most recent call last)",
      "\u001b[0;32m<ipython-input-53-dc2fd5a66db9>\u001b[0m in \u001b[0;36m<module>\u001b[0;34m\u001b[0m\n\u001b[1;32m      2\u001b[0m \u001b[0;34m\u001b[0m\u001b[0m\n\u001b[1;32m      3\u001b[0m \u001b[0;31m# First calculate the means (a.k.a. averages) of w and d.\u001b[0m\u001b[0;34m\u001b[0m\u001b[0;34m\u001b[0m\u001b[0;34m\u001b[0m\u001b[0m\n\u001b[0;32m----> 4\u001b[0;31m \u001b[0mspeed_avg\u001b[0m \u001b[0;34m=\u001b[0m \u001b[0mnp\u001b[0m\u001b[0;34m.\u001b[0m\u001b[0mmean\u001b[0m\u001b[0;34m(\u001b[0m\u001b[0;34m\"speed\"\u001b[0m\u001b[0;34m)\u001b[0m\u001b[0;34m\u001b[0m\u001b[0;34m\u001b[0m\u001b[0m\n\u001b[0m\u001b[1;32m      5\u001b[0m \u001b[0mpower_avg\u001b[0m \u001b[0;34m=\u001b[0m \u001b[0mnp\u001b[0m\u001b[0;34m.\u001b[0m\u001b[0mmean\u001b[0m\u001b[0;34m(\u001b[0m\u001b[0;34m\"power\"\u001b[0m\u001b[0;34m)\u001b[0m\u001b[0;34m\u001b[0m\u001b[0;34m\u001b[0m\u001b[0m\n\u001b[1;32m      6\u001b[0m \u001b[0;34m\u001b[0m\u001b[0m\n",
      "\u001b[0;32m<__array_function__ internals>\u001b[0m in \u001b[0;36mmean\u001b[0;34m(*args, **kwargs)\u001b[0m\n",
      "\u001b[0;32m~/.pyenv/versions/3.8.2/lib/python3.8/site-packages/numpy/core/fromnumeric.py\u001b[0m in \u001b[0;36mmean\u001b[0;34m(a, axis, dtype, out, keepdims)\u001b[0m\n\u001b[1;32m   3332\u001b[0m             \u001b[0;32mreturn\u001b[0m \u001b[0mmean\u001b[0m\u001b[0;34m(\u001b[0m\u001b[0maxis\u001b[0m\u001b[0;34m=\u001b[0m\u001b[0maxis\u001b[0m\u001b[0;34m,\u001b[0m \u001b[0mdtype\u001b[0m\u001b[0;34m=\u001b[0m\u001b[0mdtype\u001b[0m\u001b[0;34m,\u001b[0m \u001b[0mout\u001b[0m\u001b[0;34m=\u001b[0m\u001b[0mout\u001b[0m\u001b[0;34m,\u001b[0m \u001b[0;34m**\u001b[0m\u001b[0mkwargs\u001b[0m\u001b[0;34m)\u001b[0m\u001b[0;34m\u001b[0m\u001b[0;34m\u001b[0m\u001b[0m\n\u001b[1;32m   3333\u001b[0m \u001b[0;34m\u001b[0m\u001b[0m\n\u001b[0;32m-> 3334\u001b[0;31m     return _methods._mean(a, axis=axis, dtype=dtype,\n\u001b[0m\u001b[1;32m   3335\u001b[0m                           out=out, **kwargs)\n\u001b[1;32m   3336\u001b[0m \u001b[0;34m\u001b[0m\u001b[0m\n",
      "\u001b[0;32m~/.pyenv/versions/3.8.2/lib/python3.8/site-packages/numpy/core/_methods.py\u001b[0m in \u001b[0;36m_mean\u001b[0;34m(a, axis, dtype, out, keepdims)\u001b[0m\n\u001b[1;32m    149\u001b[0m             \u001b[0mis_float16_result\u001b[0m \u001b[0;34m=\u001b[0m \u001b[0;32mTrue\u001b[0m\u001b[0;34m\u001b[0m\u001b[0;34m\u001b[0m\u001b[0m\n\u001b[1;32m    150\u001b[0m \u001b[0;34m\u001b[0m\u001b[0m\n\u001b[0;32m--> 151\u001b[0;31m     \u001b[0mret\u001b[0m \u001b[0;34m=\u001b[0m \u001b[0mumr_sum\u001b[0m\u001b[0;34m(\u001b[0m\u001b[0marr\u001b[0m\u001b[0;34m,\u001b[0m \u001b[0maxis\u001b[0m\u001b[0;34m,\u001b[0m \u001b[0mdtype\u001b[0m\u001b[0;34m,\u001b[0m \u001b[0mout\u001b[0m\u001b[0;34m,\u001b[0m \u001b[0mkeepdims\u001b[0m\u001b[0;34m)\u001b[0m\u001b[0;34m\u001b[0m\u001b[0;34m\u001b[0m\u001b[0m\n\u001b[0m\u001b[1;32m    152\u001b[0m     \u001b[0;32mif\u001b[0m \u001b[0misinstance\u001b[0m\u001b[0;34m(\u001b[0m\u001b[0mret\u001b[0m\u001b[0;34m,\u001b[0m \u001b[0mmu\u001b[0m\u001b[0;34m.\u001b[0m\u001b[0mndarray\u001b[0m\u001b[0;34m)\u001b[0m\u001b[0;34m:\u001b[0m\u001b[0;34m\u001b[0m\u001b[0;34m\u001b[0m\u001b[0m\n\u001b[1;32m    153\u001b[0m         ret = um.true_divide(\n",
      "\u001b[0;31mTypeError\u001b[0m: cannot perform reduce with flexible type"
     ]
    }
   ],
   "source": [
    "# Calculate the best values for m and c.\n",
    "\n",
    "# First calculate the means (a.k.a. averages) of w and d.\n",
    "speed_avg = np.mean(\"speed\")\n",
    "power_avg = np.mean(\"power\")\n",
    "\n",
    "# Subtract means from w and d.\n",
    "speed_zero = \"speed\" - speed_avg\n",
    "power_zero = \"power\" - power_avg\n",
    "\n",
    "# The best m is found by the following calculation.\n",
    "m = np.sum(speed_zero * power_zero) / np.sum(speed_zero * spwer_zero)\n",
    "# Use m from above to calculate the best c.\n",
    "c = power_avg - m * speed_avg\n",
    "\n",
    "print(\"m is %8.6f and c is %6.6f.\" % (m, c))"
   ]
  },
  {
   "cell_type": "markdown",
   "metadata": {},
   "source": [
    "## References\n",
    "----------------------------------------------------"
   ]
  },
  {
   "cell_type": "markdown",
   "metadata": {},
   "source": [
    "<a name=\"myfootnote1\">1</a>: Stack Overflow - Purpose of “%matplotlib inline”, <https://stackoverflow.com/questions/43027980/purpose-of-matplotlib-inline/43028034>\n",
    "\n",
    "<a name=\"myfootnote2\">2</a>: The Python Graph Gallery - 104 Seaborn Themes, <https://python-graph-gallery.com/104-seaborn-themes/>\n",
    "\n",
    "<a name=\"myfootnote3\">3</a>: Seaborn - Choosing color palettes, <https://seaborn.pydata.org/tutorial/color_palettes.html>\n",
    "\n",
    "<a name=\"myfootnote4\">4</a>: Brian Beers - Regression Definition, <https://www.investopedia.com/terms/r/regression.asp>\n",
    "\n",
    "<a name=\"myfootnote5\">5</a>: Jim Frost - When Should I Use Regression Analysis?, <https://statisticsbyjim.com/regression/when-use-regression-analysis/>\n",
    "\n",
    "<a name=\"myfootnote6\">6</a>: Prashanth Ashok - What is Regression? Definition of Regression?, <https://www.mygreatlearning.com/blog/what-is-regression/>\n",
    "\n",
    "<a name=\"myfootnote7\">7</a>: Coporate Finance Institute - Regression Analysis, <https://corporatefinanceinstitute.com/resources/knowledge/finance/regression-analysis/>\n",
    "\n",
    "<a name=\"myfootnote8\">8</a>: Stephanie Glen - Regression Analysis, <https://www.statisticshowto.com/probability-and-statistics/regression-analysis/>\n",
    "\n",
    "<a name=\"myfootnote9\">9</a>: Jim Frost - How to Choose Between Linear and Nonlinear Regression, <https://statisticsbyjim.com/regression/choose-linear-nonlinear-regression/>\n",
    "\n",
    "<a name=\"myfootnote10\">10</a>: Yale University - Linear Regression, <http://www.stat.yale.edu/Courses/1997-98/101/linreg.htm>\n",
    "\n",
    "<a name=\"myfootnote11\">11</a>: Science Direct - Nonlinear Regression, <https://www.sciencedirect.com/topics/mathematics/nonlinear-regression>\n",
    "\n",
    "<a name=\"myfootnote12\">12</a>: WebFOCUS RStat - Explanation of the Regression Model, <https://webfocusinfocenter.informationbuilders.com/wfappent/TLs/TL_rstat/source/LinearRegression41.htm>\n",
    "\n",
    "<a name=\"myfootnote13\">13</a>: Pandas Manual Version 1.2.0 - pandas.read_csv, <https://pandas.pydata.org/pandas-docs/stable/reference/api/pandas.read_csv.html>\n",
    "\n",
    "<a name=\"myfootnote14\">14</a>: Pandas Manual Version 1.2.0 - pandas.DataFrame.info, <https://pandas.pydata.org/pandas-docs/stable/reference/api/pandas.DataFrame.info.html>\n",
    "\n",
    "<a name=\"myfootnote15\">15</a>: Pandas Manual Version 1.2.0 - pandas.isnull, <https://pandas.pydata.org/pandas-docs/stable/reference/api/pandas.isnull.html>\n",
    "\n",
    "<a name=\"myfootnote16\">16</a>: Geeks for Geeks - sum() function in Python, <https://www.geeksforgeeks.org/sum-function-python/>\n",
    "\n",
    "<a name=\"myfootnote17\">17</a>: Pandas Manual Version 1.2.0 - pandas.DataFrame.describe, <https://pandas.pydata.org/pandas-docs/stable/reference/api/pandas.DataFrame.describe.html?highlight=describe#pandas.DataFrame.describe>\n",
    "\n",
    "<a name=\"myfootnote18\">18</a>: David Amos - How to Round Numbers in Python, <https://realpython.com/python-rounding/>\n",
    "\n",
    "<a name=\"myfootnote19\">19</a>: Pandas Manual Version 1.2.0 - pandas.DataFrame.head, <https://pandas.pydata.org/pandas-docs/stable/reference/api/pandas.DataFrame.head.html?highlight=head#pandas.DataFrame.head>\n",
    "\n",
    "<a name=\"myfootnote20\">20</a>: Pandas Manual Version 1.2.0 - pandas.DataFrame.tail, <https://pandas.pydata.org/pandas-docs/stable/reference/api/pandas.DataFrame.tail.html?highlight=tail#pandas.DataFrame.tail>\n",
    "\n",
    "<a name=\"myfootnote21\">21</a>: Pandas Manual Version 1.2.0 - pandas.DataFrame.sample, <https://pandas.pydata.org/pandas-docs/stable/reference/api/pandas.DataFrame.sample.html?highlight=sample#pandas.DataFrame.sample>\n",
    "\n",
    "<a name=\"myfootnote22\">22</a>: Pandas Manual Version 1.2.0 - Indexing and selecting data, <https://pandas.pydata.org/pandas-docs/stable/user_guide/indexing.html>\n",
    "\n",
    "<a name=\"myfootnote23\">23</a>: David Garland - What is an S-curve?, <http://www.maxwideman.com/guests/s-curve/what.htm>\n",
    "\n",
    "<a name=\"myfootnote24\">24</a>: N Task Manager - Everything You Need to Know about S-Curve in Project Management, <https://www.ntaskmanager.com/blog/s-curve-in-project-management/>\n",
    "\n",
    "<a name=\"myfootnote25\">25</a>: Kahn Academy - Exponential & logistic growth, <https://www.khanacademy.org/science/ap-biology/ecology-ap/population-ecology-ap/a/exponential-logistic-growth>\n",
    "\n",
    "<a name=\"myfootnote26\">26</a>: Biology Dictionary - Carrying Capacity, <https://biologydictionary.net/carrying-capacity/>\n",
    "\n",
    "<a name=\"myfootnote27\">27</a>: Wolfram Mathworld - Outlier, <https://mathworld.wolfram.com/Outlier.html>\n",
    "\n",
    "<a name=\"myfootnote28\">28</a>: Alex Birkett - How to Deal with Outliers in Your Data, <https://cxl.com/blog/outliers/>\n",
    "\n",
    "<a name=\"myfootnote29\">29</a>: Karen Grace-Martin - Outliers: To Drop or Not to Drop, <https://www.theanalysisfactor.com/outliers-to-drop-or-not-to-drop/>\n",
    "\n",
    "<a name=\"myfootnote30\">30</a>: Science Direct - Linear Regression, <https://www.sciencedirect.com/topics/mathematics/linear-regression>\n",
    "\n",
    "<a name=\"myfootnote31\">31</a>: Penn State - What is Simple Linear Regression?, <https://online.stat.psu.edu/stat462/node/91/>"
   ]
  },
  {
   "cell_type": "markdown",
   "metadata": {},
   "source": [
    "## Bibliography\n",
    "----------------------------------------------------"
   ]
  },
  {
   "cell_type": "markdown",
   "metadata": {},
   "source": [
    "Within the course of this project the following sources were also used for research purposes:\n",
    "\n",
    "* Shane Lynn - Python Pandas read_csv – Load Data from CSV Files, <https://www.shanelynn.ie/python-pandas-read_csv-load-data-from-csv-files/>\n",
    "\n",
    "* Ritika Singh - Exploratory Data Analysis(EDA) in Python!, <https://www.analyticsvidhya.com/blog/2020/08/exploratory-data-analysiseda-from-scratch-in-python/>\n",
    "\n",
    "* Kahn Academy - Identifying outliers with the 1.5xIQR rule, <https://www.khanacademy.org/math/statistics-probability/summarizing-quantitative-data/box-whisker-plots/a/identifying-outliers-iqr-rule>\n",
    "\n",
    "* University of Canterbury Statistical Consulting Unit - Outliers: why do they occur and how to deal with them, <https://ucscu.wordpress.com/2015/07/16/outliers-why-do-they-occur-and-how-to-deal-with-them/>\n",
    "\n",
    "* Jim Frost - Guidelines for Removing and Handling Outliers in Data, <https://statisticsbyjim.com/basics/remove-outliers/>"
   ]
  }
 ],
 "metadata": {
  "kernelspec": {
   "display_name": "Python 3",
   "language": "python",
   "name": "python3"
  },
  "language_info": {
   "codemirror_mode": {
    "name": "ipython",
    "version": 3
   },
   "file_extension": ".py",
   "mimetype": "text/x-python",
   "name": "python",
   "nbconvert_exporter": "python",
   "pygments_lexer": "ipython3",
   "version": "3.8.2"
  }
 },
 "nbformat": 4,
 "nbformat_minor": 4
}
